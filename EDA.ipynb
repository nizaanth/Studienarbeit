{
 "cells": [
  {
   "cell_type": "code",
   "execution_count": 9,
   "metadata": {},
   "outputs": [],
   "source": [
    "import pandas as pd\n",
    "import numpy as np\n",
    "from collections import Counter\n",
    "import re"
   ]
  },
  {
   "cell_type": "code",
   "execution_count": 10,
   "metadata": {},
   "outputs": [
    {
     "name": "stdout",
     "output_type": "stream",
     "text": [
      "Detected encoding: utf-8\n"
     ]
    }
   ],
   "source": [
    "import chardet\n",
    "\n",
    "def detect_file_encoding(file_path):\n",
    "    with open(file_path, 'rb') as file:\n",
    "        raw_data = file.read()\n",
    "        result = chardet.detect(raw_data)\n",
    "        return result['encoding']\n",
    "\n",
    "# Use it like this:\n",
    "file_path = 'Dataset/production_comments.txt'\n",
    "encoding = detect_file_encoding(file_path)\n",
    "print(f\"Detected encoding: {encoding}\")\n",
    "\n",
    "# Then use the detected encoding\n",
    "df = pd.read_csv(file_path, sep='\\t', encoding=encoding)\n"
   ]
  },
  {
   "cell_type": "code",
   "execution_count": 31,
   "metadata": {},
   "outputs": [
    {
     "data": {
      "text/html": [
       "<div>\n",
       "<style scoped>\n",
       "    .dataframe tbody tr th:only-of-type {\n",
       "        vertical-align: middle;\n",
       "    }\n",
       "\n",
       "    .dataframe tbody tr th {\n",
       "        vertical-align: top;\n",
       "    }\n",
       "\n",
       "    .dataframe thead th {\n",
       "        text-align: right;\n",
       "    }\n",
       "</style>\n",
       "<table border=\"1\" class=\"dataframe\">\n",
       "  <thead>\n",
       "    <tr style=\"text-align: right;\">\n",
       "      <th></th>\n",
       "      <th>Schicht</th>\n",
       "      <th>Maschinen-ID</th>\n",
       "      <th>Produktionslinie</th>\n",
       "      <th>Betreiber</th>\n",
       "      <th>Kommentar</th>\n",
       "    </tr>\n",
       "  </thead>\n",
       "  <tbody>\n",
       "    <tr>\n",
       "      <th>0</th>\n",
       "      <td>Schicht1</td>\n",
       "      <td>M01</td>\n",
       "      <td>Linie1</td>\n",
       "      <td>Lisa Fischer</td>\n",
       "      <td>Die Maschine arbeitete optimal, alle Parameter...</td>\n",
       "    </tr>\n",
       "    <tr>\n",
       "      <th>1</th>\n",
       "      <td>Schicht1</td>\n",
       "      <td>M02</td>\n",
       "      <td>Linie2</td>\n",
       "      <td>Tobias Schulz</td>\n",
       "      <td>Häufige Kalibrierungen waren notwendig, was di...</td>\n",
       "    </tr>\n",
       "    <tr>\n",
       "      <th>2</th>\n",
       "      <td>Schicht1</td>\n",
       "      <td>M03</td>\n",
       "      <td>Linie3</td>\n",
       "      <td>Anna Braun</td>\n",
       "      <td>Die Qualität der produzierten Teile war überdu...</td>\n",
       "    </tr>\n",
       "    <tr>\n",
       "      <th>3</th>\n",
       "      <td>Schicht2</td>\n",
       "      <td>M04</td>\n",
       "      <td>Linie1</td>\n",
       "      <td>Frank Bauer</td>\n",
       "      <td>Ein unerwarteter Stillstand aufgrund eines Sof...</td>\n",
       "    </tr>\n",
       "    <tr>\n",
       "      <th>4</th>\n",
       "      <td>Schicht2</td>\n",
       "      <td>M05</td>\n",
       "      <td>Linie2</td>\n",
       "      <td>Emma Weber</td>\n",
       "      <td>Die Maschinen liefen stabil, jedoch gab es ein...</td>\n",
       "    </tr>\n",
       "  </tbody>\n",
       "</table>\n",
       "</div>"
      ],
      "text/plain": [
       "    Schicht Maschinen-ID Produktionslinie      Betreiber  \\\n",
       "0  Schicht1          M01           Linie1   Lisa Fischer   \n",
       "1  Schicht1          M02           Linie2  Tobias Schulz   \n",
       "2  Schicht1          M03           Linie3     Anna Braun   \n",
       "3  Schicht2          M04           Linie1    Frank Bauer   \n",
       "4  Schicht2          M05           Linie2     Emma Weber   \n",
       "\n",
       "                                           Kommentar  \n",
       "0  Die Maschine arbeitete optimal, alle Parameter...  \n",
       "1  Häufige Kalibrierungen waren notwendig, was di...  \n",
       "2  Die Qualität der produzierten Teile war überdu...  \n",
       "3  Ein unerwarteter Stillstand aufgrund eines Sof...  \n",
       "4  Die Maschinen liefen stabil, jedoch gab es ein...  "
      ]
     },
     "execution_count": 31,
     "metadata": {},
     "output_type": "execute_result"
    }
   ],
   "source": [
    "df.head()"
   ]
  },
  {
   "cell_type": "code",
   "execution_count": 24,
   "metadata": {},
   "outputs": [],
   "source": [
    "def process_comments(text):\n",
    "    # Convert to lowercase\n",
    "    text = str(text).lower()\n",
    "    # Remove special characters and numbers\n",
    "    text = re.sub(r'[^a-zA-ZäöüßÄÖÜ\\s]', '', text)\n",
    "    # Split into words\n",
    "    words = text.split()\n",
    "    return words\n"
   ]
  },
  {
   "cell_type": "code",
   "execution_count": 25,
   "metadata": {},
   "outputs": [],
   "source": [
    "# Process all comments\n",
    "all_words = []\n",
    "for comment in df['Kommentar']:\n",
    "    words = process_comments(comment)\n",
    "    all_words.extend(words)"
   ]
  },
  {
   "cell_type": "code",
   "execution_count": 26,
   "metadata": {},
   "outputs": [
    {
     "name": "stdout",
     "output_type": "stream",
     "text": [
      "Number of unique words: 327\n",
      "\n",
      "First 20 unique words:\n",
      "['abhängig', 'ablauf', 'abläufe', 'abnutzungspuren', 'abweichungen', 'adressiert', 'alle', 'alles', 'allgemeinen', 'als', 'alters', 'an', 'analyse', 'analysen', 'anforderungen', 'angehalten', 'anlaufphase', 'anpassungen', 'anspruch', 'anstieg']\n"
     ]
    }
   ],
   "source": [
    "# Get unique words\n",
    "unique_words = sorted(list(set(all_words)))\n",
    "print(f\"Number of unique words: {len(unique_words)}\")\n",
    "print(\"\\nFirst 20 unique words:\")\n",
    "print(unique_words[:20])\n"
   ]
  },
  {
   "cell_type": "code",
   "execution_count": 27,
   "metadata": {},
   "outputs": [],
   "source": [
    "# Get word frequency\n",
    "word_freq = Counter(all_words)\n",
    "most_common_words = word_freq.most_common(10)"
   ]
  },
  {
   "cell_type": "code",
   "execution_count": 28,
   "metadata": {},
   "outputs": [
    {
     "data": {
      "text/plain": [
       "[('die', 71),\n",
       " ('der', 30),\n",
       " ('war', 25),\n",
       " ('ein', 22),\n",
       " ('maschine', 15),\n",
       " ('produktion', 13),\n",
       " ('waren', 12),\n",
       " ('qualität', 10),\n",
       " ('hat', 10),\n",
       " ('ausschuss', 8)]"
      ]
     },
     "execution_count": 28,
     "metadata": {},
     "output_type": "execute_result"
    }
   ],
   "source": [
    "most_common_words"
   ]
  },
  {
   "cell_type": "code",
   "execution_count": 29,
   "metadata": {},
   "outputs": [],
   "source": [
    "# Create a DataFrame of word frequencies\n",
    "word_freq_df = pd.DataFrame(word_freq.items(), columns=['Word', 'Frequency'])\n",
    "word_freq_df = word_freq_df.sort_values('Frequency', ascending=False)\n",
    "word_freq_df.to_csv('word_frequencies.csv', index=False, encoding='utf-8-sig')"
   ]
  },
  {
   "cell_type": "code",
   "execution_count": 30,
   "metadata": {},
   "outputs": [
    {
     "data": {
      "text/html": [
       "<div>\n",
       "<style scoped>\n",
       "    .dataframe tbody tr th:only-of-type {\n",
       "        vertical-align: middle;\n",
       "    }\n",
       "\n",
       "    .dataframe tbody tr th {\n",
       "        vertical-align: top;\n",
       "    }\n",
       "\n",
       "    .dataframe thead th {\n",
       "        text-align: right;\n",
       "    }\n",
       "</style>\n",
       "<table border=\"1\" class=\"dataframe\">\n",
       "  <thead>\n",
       "    <tr style=\"text-align: right;\">\n",
       "      <th></th>\n",
       "      <th>Word</th>\n",
       "      <th>Frequency</th>\n",
       "    </tr>\n",
       "  </thead>\n",
       "  <tbody>\n",
       "    <tr>\n",
       "      <th>0</th>\n",
       "      <td>die</td>\n",
       "      <td>71</td>\n",
       "    </tr>\n",
       "    <tr>\n",
       "      <th>17</th>\n",
       "      <td>der</td>\n",
       "      <td>30</td>\n",
       "    </tr>\n",
       "    <tr>\n",
       "      <th>20</th>\n",
       "      <td>war</td>\n",
       "      <td>25</td>\n",
       "    </tr>\n",
       "    <tr>\n",
       "      <th>23</th>\n",
       "      <td>ein</td>\n",
       "      <td>22</td>\n",
       "    </tr>\n",
       "    <tr>\n",
       "      <th>1</th>\n",
       "      <td>maschine</td>\n",
       "      <td>15</td>\n",
       "    </tr>\n",
       "    <tr>\n",
       "      <th>40</th>\n",
       "      <td>produktion</td>\n",
       "      <td>13</td>\n",
       "    </tr>\n",
       "    <tr>\n",
       "      <th>6</th>\n",
       "      <td>waren</td>\n",
       "      <td>12</td>\n",
       "    </tr>\n",
       "    <tr>\n",
       "      <th>57</th>\n",
       "      <td>hat</td>\n",
       "      <td>10</td>\n",
       "    </tr>\n",
       "    <tr>\n",
       "      <th>16</th>\n",
       "      <td>qualität</td>\n",
       "      <td>10</td>\n",
       "    </tr>\n",
       "    <tr>\n",
       "      <th>89</th>\n",
       "      <td>ausschuss</td>\n",
       "      <td>8</td>\n",
       "    </tr>\n",
       "  </tbody>\n",
       "</table>\n",
       "</div>"
      ],
      "text/plain": [
       "          Word  Frequency\n",
       "0          die         71\n",
       "17         der         30\n",
       "20         war         25\n",
       "23         ein         22\n",
       "1     maschine         15\n",
       "40  produktion         13\n",
       "6        waren         12\n",
       "57         hat         10\n",
       "16    qualität         10\n",
       "89   ausschuss          8"
      ]
     },
     "execution_count": 30,
     "metadata": {},
     "output_type": "execute_result"
    }
   ],
   "source": [
    "word_freq_df.head(10)"
   ]
  },
  {
   "cell_type": "code",
   "execution_count": 32,
   "metadata": {},
   "outputs": [],
   "source": [
    "def process_comments(texts):\n",
    "    # Domain-specific stopwords (German)\n",
    "    stopwords = set(get_stop_words('german') + [\n",
    "        'maschine', 'produktion', 'schicht', 'linie', \n",
    "        'system', 'parameter', 'prozess', 'teil'\n",
    "    ])\n",
    "    \n",
    "    processed_texts = []\n",
    "    for text in texts:\n",
    "        # Clean and normalize\n",
    "        text = str(text).lower()\n",
    "        text = re.sub(r'[^a-zA-Zäöüß\\s-]', '', text)  # Keep hyphens for compound words\n",
    "        text = re.sub(r'\\b\\d+\\b', '', text)  # Remove standalone numbers\n",
    "        \n",
    "        # Tokenize and filter\n",
    "        tokens = [\n",
    "            token for token in text.split() \n",
    "            if token not in stopwords and len(token) > 2\n",
    "        ]\n",
    "        \n",
    "        # Rebuild text for BERTopic\n",
    "        processed_texts.append(' '.join(tokens))\n",
    "    \n",
    "    return processed_texts"
   ]
  },
  {
   "cell_type": "code",
   "execution_count": null,
   "metadata": {},
   "outputs": [],
   "source": [
    "from sentence_transformers import SentenceTransformer\n",
    "from bertopic import BERTopic\n",
    "from umap import UMAP\n",
    "from sklearn.cluster import KMeans\n",
    "\n",
    "# Generate embeddings\n",
    "gbert = SentenceTransformer('deepset/gbert-base')\n",
    "embeddings = gbert.encode(processed_comments)"
   ]
  }
 ],
 "metadata": {
  "kernelspec": {
   "display_name": "my_venv",
   "language": "python",
   "name": "python3"
  },
  "language_info": {
   "codemirror_mode": {
    "name": "ipython",
    "version": 3
   },
   "file_extension": ".py",
   "mimetype": "text/x-python",
   "name": "python",
   "nbconvert_exporter": "python",
   "pygments_lexer": "ipython3",
   "version": "3.11.1"
  }
 },
 "nbformat": 4,
 "nbformat_minor": 2
}
